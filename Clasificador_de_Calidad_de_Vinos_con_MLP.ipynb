{
  "nbformat": 4,
  "nbformat_minor": 0,
  "metadata": {
    "colab": {
      "name": "Clasificador_de_Calidad_de_Vinos_con_MLP.ipynb",
      "provenance": []
    },
    "kernelspec": {
      "name": "python3",
      "display_name": "Python 3"
    }
  },
  "cells": [
    {
      "cell_type": "markdown",
      "metadata": {
        "id": "8hyzPUoeepBG",
        "colab_type": "text"
      },
      "source": [
        "#                               **Análisis de Calidad de Vinos con MLP**\n",
        "## puede descargarlo de: https://archive.ics.uci.edu/ml/datasets/Wine+Quality\n",
        "\n",
        "## **Realizado por:** José Max Barrios\n",
        "\n",
        "### Asignación principal: Conseguir Clasificar la calidad de Vinos construyendo una MLP, con ayuda de Keras."
      ]
    },
    {
      "cell_type": "code",
      "metadata": {
        "id": "YsMeq41Qui4p",
        "colab_type": "code",
        "outputId": "ed368d39-f2e1-404c-bf60-296b51baddaa",
        "colab": {
          "base_uri": "https://localhost:8080/",
          "height": 34
        }
      },
      "source": [
        "#Accesing to my Google Drive Account to take the Dataset\n",
        "# Google file system\n",
        "from google.colab import drive\n",
        "drive.mount('/gdrive', force_remount=True)"
      ],
      "execution_count": 2448,
      "outputs": [
        {
          "output_type": "stream",
          "text": [
            "Mounted at /gdrive\n"
          ],
          "name": "stdout"
        }
      ]
    },
    {
      "cell_type": "code",
      "metadata": {
        "id": "XwSO3Ky1enwf",
        "colab_type": "code",
        "colab": {}
      },
      "source": [
        "#Importing some libraries\n",
        "import pandas as pd\n",
        "import numpy as np\n",
        "import matplotlib.pyplot as plt\n",
        "import seaborn as sns\n",
        "import sklearn as sk\n",
        "plt.style.use('ggplot')"
      ],
      "execution_count": 0,
      "outputs": []
    },
    {
      "cell_type": "code",
      "metadata": {
        "id": "Da06marrfB_3",
        "colab_type": "code",
        "colab": {}
      },
      "source": [
        "# wine dataset\n",
        "RTT_File= \"/gdrive/My Drive/Banistmo/winequality.csv\""
      ],
      "execution_count": 0,
      "outputs": []
    },
    {
      "cell_type": "code",
      "metadata": {
        "id": "A_iId8GSfGx-",
        "colab_type": "code",
        "outputId": "de90dc9d-6d99-48a1-95e4-dd827e604425",
        "colab": {
          "base_uri": "https://localhost:8080/",
          "height": 204
        }
      },
      "source": [
        "#Creando dataframe para vino blanco y vino eojo\n",
        "wine = pd.read_csv(RTT_File, sep=';')\n",
        "wine.head()"
      ],
      "execution_count": 2451,
      "outputs": [
        {
          "output_type": "execute_result",
          "data": {
            "text/html": [
              "<div>\n",
              "<style scoped>\n",
              "    .dataframe tbody tr th:only-of-type {\n",
              "        vertical-align: middle;\n",
              "    }\n",
              "\n",
              "    .dataframe tbody tr th {\n",
              "        vertical-align: top;\n",
              "    }\n",
              "\n",
              "    .dataframe thead th {\n",
              "        text-align: right;\n",
              "    }\n",
              "</style>\n",
              "<table border=\"1\" class=\"dataframe\">\n",
              "  <thead>\n",
              "    <tr style=\"text-align: right;\">\n",
              "      <th></th>\n",
              "      <th>fixed acidity</th>\n",
              "      <th>volatile acidity</th>\n",
              "      <th>citric acid</th>\n",
              "      <th>residual sugar</th>\n",
              "      <th>chlorides</th>\n",
              "      <th>free sulfur dioxide</th>\n",
              "      <th>total sulfur dioxide</th>\n",
              "      <th>density</th>\n",
              "      <th>pH</th>\n",
              "      <th>sulphates</th>\n",
              "      <th>alcohol</th>\n",
              "      <th>quality</th>\n",
              "    </tr>\n",
              "  </thead>\n",
              "  <tbody>\n",
              "    <tr>\n",
              "      <th>0</th>\n",
              "      <td>7.4</td>\n",
              "      <td>0.70</td>\n",
              "      <td>0.00</td>\n",
              "      <td>1.9</td>\n",
              "      <td>0.076</td>\n",
              "      <td>11.0</td>\n",
              "      <td>34.0</td>\n",
              "      <td>0.9978</td>\n",
              "      <td>3.51</td>\n",
              "      <td>0.56</td>\n",
              "      <td>9.4</td>\n",
              "      <td>5</td>\n",
              "    </tr>\n",
              "    <tr>\n",
              "      <th>1</th>\n",
              "      <td>7.8</td>\n",
              "      <td>0.88</td>\n",
              "      <td>0.00</td>\n",
              "      <td>2.6</td>\n",
              "      <td>0.098</td>\n",
              "      <td>25.0</td>\n",
              "      <td>67.0</td>\n",
              "      <td>0.9968</td>\n",
              "      <td>3.20</td>\n",
              "      <td>0.68</td>\n",
              "      <td>9.8</td>\n",
              "      <td>5</td>\n",
              "    </tr>\n",
              "    <tr>\n",
              "      <th>2</th>\n",
              "      <td>7.8</td>\n",
              "      <td>0.76</td>\n",
              "      <td>0.04</td>\n",
              "      <td>2.3</td>\n",
              "      <td>0.092</td>\n",
              "      <td>15.0</td>\n",
              "      <td>54.0</td>\n",
              "      <td>0.9970</td>\n",
              "      <td>3.26</td>\n",
              "      <td>0.65</td>\n",
              "      <td>9.8</td>\n",
              "      <td>5</td>\n",
              "    </tr>\n",
              "    <tr>\n",
              "      <th>3</th>\n",
              "      <td>11.2</td>\n",
              "      <td>0.28</td>\n",
              "      <td>0.56</td>\n",
              "      <td>1.9</td>\n",
              "      <td>0.075</td>\n",
              "      <td>17.0</td>\n",
              "      <td>60.0</td>\n",
              "      <td>0.9980</td>\n",
              "      <td>3.16</td>\n",
              "      <td>0.58</td>\n",
              "      <td>9.8</td>\n",
              "      <td>6</td>\n",
              "    </tr>\n",
              "    <tr>\n",
              "      <th>4</th>\n",
              "      <td>7.4</td>\n",
              "      <td>0.70</td>\n",
              "      <td>0.00</td>\n",
              "      <td>1.9</td>\n",
              "      <td>0.076</td>\n",
              "      <td>11.0</td>\n",
              "      <td>34.0</td>\n",
              "      <td>0.9978</td>\n",
              "      <td>3.51</td>\n",
              "      <td>0.56</td>\n",
              "      <td>9.4</td>\n",
              "      <td>5</td>\n",
              "    </tr>\n",
              "  </tbody>\n",
              "</table>\n",
              "</div>"
            ],
            "text/plain": [
              "   fixed acidity  volatile acidity  citric acid  ...  sulphates  alcohol  quality\n",
              "0            7.4              0.70         0.00  ...       0.56      9.4        5\n",
              "1            7.8              0.88         0.00  ...       0.68      9.8        5\n",
              "2            7.8              0.76         0.04  ...       0.65      9.8        5\n",
              "3           11.2              0.28         0.56  ...       0.58      9.8        6\n",
              "4            7.4              0.70         0.00  ...       0.56      9.4        5\n",
              "\n",
              "[5 rows x 12 columns]"
            ]
          },
          "metadata": {
            "tags": []
          },
          "execution_count": 2451
        }
      ]
    },
    {
      "cell_type": "code",
      "metadata": {
        "id": "kI8-PeO1gUbm",
        "colab_type": "code",
        "outputId": "ae3cdfd7-7170-4ac2-aec2-e95a57c2b6bc",
        "colab": {
          "base_uri": "https://localhost:8080/",
          "height": 340
        }
      },
      "source": [
        "#Verificando clase de datos\n",
        "wine.info()\n",
        "#No hay valores NA"
      ],
      "execution_count": 2452,
      "outputs": [
        {
          "output_type": "stream",
          "text": [
            "<class 'pandas.core.frame.DataFrame'>\n",
            "RangeIndex: 1599 entries, 0 to 1598\n",
            "Data columns (total 12 columns):\n",
            " #   Column                Non-Null Count  Dtype  \n",
            "---  ------                --------------  -----  \n",
            " 0   fixed acidity         1599 non-null   float64\n",
            " 1   volatile acidity      1599 non-null   float64\n",
            " 2   citric acid           1599 non-null   float64\n",
            " 3   residual sugar        1599 non-null   float64\n",
            " 4   chlorides             1599 non-null   float64\n",
            " 5   free sulfur dioxide   1599 non-null   float64\n",
            " 6   total sulfur dioxide  1599 non-null   float64\n",
            " 7   density               1599 non-null   float64\n",
            " 8   pH                    1599 non-null   float64\n",
            " 9   sulphates             1599 non-null   float64\n",
            " 10  alcohol               1599 non-null   float64\n",
            " 11  quality               1599 non-null   int64  \n",
            "dtypes: float64(11), int64(1)\n",
            "memory usage: 150.0 KB\n"
          ],
          "name": "stdout"
        }
      ]
    },
    {
      "cell_type": "code",
      "metadata": {
        "id": "yFsH8BcWifK5",
        "colab_type": "code",
        "outputId": "56272f63-9664-4f61-a2ec-83f7affc95e2",
        "colab": {
          "base_uri": "https://localhost:8080/",
          "height": 297
        }
      },
      "source": [
        "#Verificando información de los datos\n",
        "wine.describe()\n",
        "#Tenemso valores con escalas muy desiguales, por lo que tendremos que normalizar los datos más adelante"
      ],
      "execution_count": 2453,
      "outputs": [
        {
          "output_type": "execute_result",
          "data": {
            "text/html": [
              "<div>\n",
              "<style scoped>\n",
              "    .dataframe tbody tr th:only-of-type {\n",
              "        vertical-align: middle;\n",
              "    }\n",
              "\n",
              "    .dataframe tbody tr th {\n",
              "        vertical-align: top;\n",
              "    }\n",
              "\n",
              "    .dataframe thead th {\n",
              "        text-align: right;\n",
              "    }\n",
              "</style>\n",
              "<table border=\"1\" class=\"dataframe\">\n",
              "  <thead>\n",
              "    <tr style=\"text-align: right;\">\n",
              "      <th></th>\n",
              "      <th>fixed acidity</th>\n",
              "      <th>volatile acidity</th>\n",
              "      <th>citric acid</th>\n",
              "      <th>residual sugar</th>\n",
              "      <th>chlorides</th>\n",
              "      <th>free sulfur dioxide</th>\n",
              "      <th>total sulfur dioxide</th>\n",
              "      <th>density</th>\n",
              "      <th>pH</th>\n",
              "      <th>sulphates</th>\n",
              "      <th>alcohol</th>\n",
              "      <th>quality</th>\n",
              "    </tr>\n",
              "  </thead>\n",
              "  <tbody>\n",
              "    <tr>\n",
              "      <th>count</th>\n",
              "      <td>1599.000000</td>\n",
              "      <td>1599.000000</td>\n",
              "      <td>1599.000000</td>\n",
              "      <td>1599.000000</td>\n",
              "      <td>1599.000000</td>\n",
              "      <td>1599.000000</td>\n",
              "      <td>1599.000000</td>\n",
              "      <td>1599.000000</td>\n",
              "      <td>1599.000000</td>\n",
              "      <td>1599.000000</td>\n",
              "      <td>1599.000000</td>\n",
              "      <td>1599.000000</td>\n",
              "    </tr>\n",
              "    <tr>\n",
              "      <th>mean</th>\n",
              "      <td>8.319637</td>\n",
              "      <td>0.527821</td>\n",
              "      <td>0.270976</td>\n",
              "      <td>2.538806</td>\n",
              "      <td>0.087467</td>\n",
              "      <td>15.874922</td>\n",
              "      <td>46.467792</td>\n",
              "      <td>0.996747</td>\n",
              "      <td>3.311113</td>\n",
              "      <td>0.658149</td>\n",
              "      <td>10.422983</td>\n",
              "      <td>5.636023</td>\n",
              "    </tr>\n",
              "    <tr>\n",
              "      <th>std</th>\n",
              "      <td>1.741096</td>\n",
              "      <td>0.179060</td>\n",
              "      <td>0.194801</td>\n",
              "      <td>1.409928</td>\n",
              "      <td>0.047065</td>\n",
              "      <td>10.460157</td>\n",
              "      <td>32.895324</td>\n",
              "      <td>0.001887</td>\n",
              "      <td>0.154386</td>\n",
              "      <td>0.169507</td>\n",
              "      <td>1.065668</td>\n",
              "      <td>0.807569</td>\n",
              "    </tr>\n",
              "    <tr>\n",
              "      <th>min</th>\n",
              "      <td>4.600000</td>\n",
              "      <td>0.120000</td>\n",
              "      <td>0.000000</td>\n",
              "      <td>0.900000</td>\n",
              "      <td>0.012000</td>\n",
              "      <td>1.000000</td>\n",
              "      <td>6.000000</td>\n",
              "      <td>0.990070</td>\n",
              "      <td>2.740000</td>\n",
              "      <td>0.330000</td>\n",
              "      <td>8.400000</td>\n",
              "      <td>3.000000</td>\n",
              "    </tr>\n",
              "    <tr>\n",
              "      <th>25%</th>\n",
              "      <td>7.100000</td>\n",
              "      <td>0.390000</td>\n",
              "      <td>0.090000</td>\n",
              "      <td>1.900000</td>\n",
              "      <td>0.070000</td>\n",
              "      <td>7.000000</td>\n",
              "      <td>22.000000</td>\n",
              "      <td>0.995600</td>\n",
              "      <td>3.210000</td>\n",
              "      <td>0.550000</td>\n",
              "      <td>9.500000</td>\n",
              "      <td>5.000000</td>\n",
              "    </tr>\n",
              "    <tr>\n",
              "      <th>50%</th>\n",
              "      <td>7.900000</td>\n",
              "      <td>0.520000</td>\n",
              "      <td>0.260000</td>\n",
              "      <td>2.200000</td>\n",
              "      <td>0.079000</td>\n",
              "      <td>14.000000</td>\n",
              "      <td>38.000000</td>\n",
              "      <td>0.996750</td>\n",
              "      <td>3.310000</td>\n",
              "      <td>0.620000</td>\n",
              "      <td>10.200000</td>\n",
              "      <td>6.000000</td>\n",
              "    </tr>\n",
              "    <tr>\n",
              "      <th>75%</th>\n",
              "      <td>9.200000</td>\n",
              "      <td>0.640000</td>\n",
              "      <td>0.420000</td>\n",
              "      <td>2.600000</td>\n",
              "      <td>0.090000</td>\n",
              "      <td>21.000000</td>\n",
              "      <td>62.000000</td>\n",
              "      <td>0.997835</td>\n",
              "      <td>3.400000</td>\n",
              "      <td>0.730000</td>\n",
              "      <td>11.100000</td>\n",
              "      <td>6.000000</td>\n",
              "    </tr>\n",
              "    <tr>\n",
              "      <th>max</th>\n",
              "      <td>15.900000</td>\n",
              "      <td>1.580000</td>\n",
              "      <td>1.000000</td>\n",
              "      <td>15.500000</td>\n",
              "      <td>0.611000</td>\n",
              "      <td>72.000000</td>\n",
              "      <td>289.000000</td>\n",
              "      <td>1.003690</td>\n",
              "      <td>4.010000</td>\n",
              "      <td>2.000000</td>\n",
              "      <td>14.900000</td>\n",
              "      <td>8.000000</td>\n",
              "    </tr>\n",
              "  </tbody>\n",
              "</table>\n",
              "</div>"
            ],
            "text/plain": [
              "       fixed acidity  volatile acidity  ...      alcohol      quality\n",
              "count    1599.000000       1599.000000  ...  1599.000000  1599.000000\n",
              "mean        8.319637          0.527821  ...    10.422983     5.636023\n",
              "std         1.741096          0.179060  ...     1.065668     0.807569\n",
              "min         4.600000          0.120000  ...     8.400000     3.000000\n",
              "25%         7.100000          0.390000  ...     9.500000     5.000000\n",
              "50%         7.900000          0.520000  ...    10.200000     6.000000\n",
              "75%         9.200000          0.640000  ...    11.100000     6.000000\n",
              "max        15.900000          1.580000  ...    14.900000     8.000000\n",
              "\n",
              "[8 rows x 12 columns]"
            ]
          },
          "metadata": {
            "tags": []
          },
          "execution_count": 2453
        }
      ]
    },
    {
      "cell_type": "code",
      "metadata": {
        "id": "8lmZQbIqgXkW",
        "colab_type": "code",
        "outputId": "f71483ac-d8f5-464d-967d-3fba62dd9d3a",
        "colab": {
          "base_uri": "https://localhost:8080/",
          "height": 136
        }
      },
      "source": [
        "#Verificando calidad de vino\n",
        "wine['quality'].value_counts()"
      ],
      "execution_count": 2454,
      "outputs": [
        {
          "output_type": "execute_result",
          "data": {
            "text/plain": [
              "5    681\n",
              "6    638\n",
              "7    199\n",
              "4     53\n",
              "8     18\n",
              "3     10\n",
              "Name: quality, dtype: int64"
            ]
          },
          "metadata": {
            "tags": []
          },
          "execution_count": 2454
        }
      ]
    },
    {
      "cell_type": "code",
      "metadata": {
        "id": "awOTkdT5gj94",
        "colab_type": "code",
        "outputId": "6b535e72-f693-43ff-da8f-b56cb2c0fc34",
        "colab": {
          "base_uri": "https://localhost:8080/",
          "height": 299
        }
      },
      "source": [
        "plot_wine = sns.countplot(data=wine, x='quality')\n",
        "plt.title('Conteo de Calidad de Vinos')\n",
        "plt.show()"
      ],
      "execution_count": 2455,
      "outputs": [
        {
          "output_type": "display_data",
          "data": {
            "image/png": "[encoded data removed]",
            "text/plain": [
              "<Figure size 432x288 with 1 Axes>"
            ]
          },
          "metadata": {
            "tags": []
          }
        }
      ]
    },
    {
      "cell_type": "markdown",
      "metadata": {
        "id": "ER5AxTeFgzwA",
        "colab_type": "text"
      },
      "source": [
        "## **Buscando Correlación más fuerte de variables**"
      ]
    },
    {
      "cell_type": "code",
      "metadata": {
        "id": "XXLE9oIRgxEe",
        "colab_type": "code",
        "outputId": "df46965a-3157-4bfb-d4d0-95df6f5ae7ed",
        "colab": {
          "base_uri": "https://localhost:8080/",
          "height": 571
        }
      },
      "source": [
        "#Mapa de Calor para ver Graficamente las variables que más explican el modelo\n",
        "fig_Dims = (10,8)\n",
        "fig, ax = plt.subplots(figsize=fig_Dims)\n",
        "sns.heatmap(wine.corr(),ax=ax)\n",
        "plt.show()"
      ],
      "execution_count": 2456,
      "outputs": [
        {
          "output_type": "display_data",
          "data": {
            "image/png": "[encoded data removed]",
            "text/plain": [
              "<Figure size 720x576 with 2 Axes>"
            ]
          },
          "metadata": {
            "tags": []
          }
        }
      ]
    },
    {
      "cell_type": "code",
      "metadata": {
        "id": "kky_qfrghAu_",
        "colab_type": "code",
        "outputId": "a97bc22b-c01b-4c17-c530-3cd0147613ec",
        "colab": {
          "base_uri": "https://localhost:8080/",
          "height": 238
        }
      },
      "source": [
        "#Observandolo correlación terminos numericos\n",
        "abs(wine.corr()['quality'])"
      ],
      "execution_count": 2457,
      "outputs": [
        {
          "output_type": "execute_result",
          "data": {
            "text/plain": [
              "fixed acidity           0.124052\n",
              "volatile acidity        0.390558\n",
              "citric acid             0.226373\n",
              "residual sugar          0.013732\n",
              "chlorides               0.128907\n",
              "free sulfur dioxide     0.050656\n",
              "total sulfur dioxide    0.185100\n",
              "density                 0.174919\n",
              "pH                      0.057731\n",
              "sulphates               0.251397\n",
              "alcohol                 0.476166\n",
              "quality                 1.000000\n",
              "Name: quality, dtype: float64"
            ]
          },
          "metadata": {
            "tags": []
          },
          "execution_count": 2457
        }
      ]
    },
    {
      "cell_type": "markdown",
      "metadata": {
        "id": "7krUCmsTr91O",
        "colab_type": "text"
      },
      "source": [
        "\n",
        "\n",
        "Siguiendo lo realizado en el análisis con el enfoque de Machine Learning, realizaremos el PCA "
      ]
    },
    {
      "cell_type": "markdown",
      "metadata": {
        "id": "IEaEI2y-0VaT",
        "colab_type": "text"
      },
      "source": [
        "\n",
        "Clasificaremos los vinos de la siguiente manera:\n",
        "\n",
        "Calidad menor o igual a 3 = **Calidad Baja**\n",
        "\n",
        "Calidad Mayor de 3 y menor o igual a 7 = **Calidad Standard**\n",
        "\n",
        "Calidad Mayor de 7 = **Alta calidad**"
      ]
    },
    {
      "cell_type": "code",
      "metadata": {
        "id": "HZSd-Up50aF0",
        "colab_type": "code",
        "colab": {}
      },
      "source": [
        "#Creando funcion para calida de vino 1= calidad baja, 2=calidad Standard, 3=alta calidad\n",
        "def calidad(vino):\n",
        "  if vino >= 1 and vino <= 3:\n",
        "        return 1\n",
        "  elif vino >= 4 and vino <= 7:\n",
        "        return 2\n",
        "  elif vino >= 8 and vino <= 10:\n",
        "        return 3"
      ],
      "execution_count": 0,
      "outputs": []
    },
    {
      "cell_type": "code",
      "metadata": {
        "id": "qOYcVrgK0chj",
        "colab_type": "code",
        "colab": {
          "base_uri": "https://localhost:8080/",
          "height": 85
        },
        "outputId": "aac77ea1-18cc-433e-8463-9014809c6d85"
      },
      "source": [
        "#Aplicando la función calidad para crear nueva columna\n",
        "wine['Calidades'] = wine['quality'].apply(calidad)\n",
        "wine['Calidades'].value_counts()"
      ],
      "execution_count": 2459,
      "outputs": [
        {
          "output_type": "execute_result",
          "data": {
            "text/plain": [
              "2    1571\n",
              "3      18\n",
              "1      10\n",
              "Name: Calidades, dtype: int64"
            ]
          },
          "metadata": {
            "tags": []
          },
          "execution_count": 2459
        }
      ]
    },
    {
      "cell_type": "markdown",
      "metadata": {
        "id": "ZlkmmFR8h-qv",
        "colab_type": "text"
      },
      "source": [
        "## **Deep Learning Approach**"
      ]
    },
    {
      "cell_type": "code",
      "metadata": {
        "id": "6dN0j13Mh9aH",
        "colab_type": "code",
        "colab": {}
      },
      "source": [
        "#Importando Keras\n",
        "import tensorflow as tf\n",
        "from tensorflow import keras"
      ],
      "execution_count": 0,
      "outputs": []
    },
    {
      "cell_type": "code",
      "metadata": {
        "id": "ulXXtaegi8q_",
        "colab_type": "code",
        "colab": {}
      },
      "source": [
        "#Separando el Target de las demas variables\n",
        "#Creando un dataset eliminando la columna target.\n",
        "#Separando Valors de Target\n",
        "X= wine.iloc[:,:11]\n",
        "#Target Varialbe\n",
        "y = wine['Calidades']"
      ],
      "execution_count": 0,
      "outputs": []
    },
    {
      "cell_type": "markdown",
      "metadata": {
        "id": "9QMWfD8gkzRZ",
        "colab_type": "text"
      },
      "source": [
        "## **Normalización de Datos**"
      ]
    },
    {
      "cell_type": "code",
      "metadata": {
        "id": "-olk0S41n7nx",
        "colab_type": "code",
        "colab": {}
      },
      "source": [
        "#Normalizando Valores para datos\n",
        "from sklearn.preprocessing import StandardScaler\n",
        "sc = StandardScaler()\n",
        "X = sc.fit_transform(X)"
      ],
      "execution_count": 0,
      "outputs": []
    },
    {
      "cell_type": "code",
      "metadata": {
        "id": "sdMJOAlXwHgm",
        "colab_type": "code",
        "colab": {}
      },
      "source": [
        "#Creando el one hot encoding para normalizar las salidas\n",
        "from sklearn.preprocessing import OneHotEncoder\n",
        "y= pd.DataFrame(y)\n",
        "from sklearn.preprocessing import OneHotEncoder\n",
        "ohe = OneHotEncoder()\n",
        "y = ohe.fit_transform(y).toarray()"
      ],
      "execution_count": 0,
      "outputs": []
    },
    {
      "cell_type": "markdown",
      "metadata": {
        "id": "uPQZkd6S2wyb",
        "colab_type": "text"
      },
      "source": [
        "## **PCA**"
      ]
    },
    {
      "cell_type": "code",
      "metadata": {
        "id": "3HKIMBet2zZZ",
        "colab_type": "code",
        "colab": {}
      },
      "source": [
        "from sklearn.decomposition import PCA\n",
        "pca = PCA()\n",
        "pca_x = pca.fit_transform(X)"
      ],
      "execution_count": 0,
      "outputs": []
    },
    {
      "cell_type": "code",
      "metadata": {
        "id": "XBGQEdDm23uq",
        "colab_type": "code",
        "colab": {
          "base_uri": "https://localhost:8080/",
          "height": 354
        },
        "outputId": "0f3d2e27-4f47-4848-be5a-f4d723dc4eac"
      },
      "source": [
        "#Buscando Elegir cuantos Componentes con respecto a la varianzza\n",
        "plt.figure(figsize=(5,5))\n",
        "plt.xlabel('Componentes')\n",
        "plt.ylabel('Varianza')\n",
        "plt.title('Componentes Contra Varianza')\n",
        "plt.plot(np.cumsum(pca.explained_variance_ratio_), 'ro-')\n",
        "plt.grid()"
      ],
      "execution_count": 2465,
      "outputs": [
        {
          "output_type": "display_data",
          "data": {
            "image/png": "[encoded data removed]",
            "text/plain": [
              "<Figure size 360x360 with 1 Axes>"
            ]
          },
          "metadata": {
            "tags": []
          }
        }
      ]
    },
    {
      "cell_type": "code",
      "metadata": {
        "id": "sfMceXTq29wG",
        "colab_type": "code",
        "colab": {}
      },
      "source": [
        "#Eligiriremos 8 componentes principañes, ya que representan aproximadamente un 90% de la variación en nuestros datos\n",
        "pca_componentes = PCA(n_components=8)\n",
        "x_pca = pca_componentes.fit_transform(X)"
      ],
      "execution_count": 0,
      "outputs": []
    },
    {
      "cell_type": "markdown",
      "metadata": {
        "id": "pQocuJhGwRxl",
        "colab_type": "text"
      },
      "source": [
        "## **Data Partition**"
      ]
    },
    {
      "cell_type": "code",
      "metadata": {
        "id": "4jGA20aDwPEw",
        "colab_type": "code",
        "colab": {}
      },
      "source": [
        "#Train 75% test 25%\n",
        "from sklearn.model_selection import train_test_split\n",
        "X_train, X_test, y_train, y_test = train_test_split(X, y, test_size = 0.25)"
      ],
      "execution_count": 0,
      "outputs": []
    },
    {
      "cell_type": "markdown",
      "metadata": {
        "id": "TeSHRbMw46aS",
        "colab_type": "text"
      },
      "source": [
        "## **Red Neuronal**\n"
      ]
    },
    {
      "cell_type": "code",
      "metadata": {
        "id": "GnyaneZGwUmi",
        "colab_type": "code",
        "outputId": "4a45263d-a1ea-4b4b-cb88-b93a29a971ac",
        "colab": {
          "base_uri": "https://localhost:8080/",
          "height": 221
        }
      },
      "source": [
        "#Importando Keras para ANN\n",
        "import keras\n",
        "from keras.models import Sequential\n",
        "from keras.layers import Dense, Dropout\n",
        "from keras.optimizers import SGD\n",
        "# 3 Hidden Layers \n",
        "model = Sequential()\n",
        "model.add(Dense(1, input_dim=11, activation='tanh'))\n",
        "# Layer de Clasifiación\n",
        "model.add(Dense(3, activation='softmax'))\n",
        "#Optimizador, Learning Rate\n",
        "opt = keras.optimizers.SGD(lr=0.1, nesterov= True, momentum=0.9, decay=1e-6)\n",
        "model.summary()"
      ],
      "execution_count": 2468,
      "outputs": [
        {
          "output_type": "stream",
          "text": [
            "Model: \"sequential_84\"\n",
            "_________________________________________________________________\n",
            "Layer (type)                 Output Shape              Param #   \n",
            "=================================================================\n",
            "dense_180 (Dense)            (None, 1)                 12        \n",
            "_________________________________________________________________\n",
            "dense_181 (Dense)            (None, 3)                 6         \n",
            "=================================================================\n",
            "Total params: 18\n",
            "Trainable params: 18\n",
            "Non-trainable params: 0\n",
            "_________________________________________________________________\n"
          ],
          "name": "stdout"
        }
      ]
    },
    {
      "cell_type": "code",
      "metadata": {
        "id": "C3YPDxwqwpZD",
        "colab_type": "code",
        "colab": {}
      },
      "source": [
        "#Compilando modelo\n",
        "model.compile(loss='categorical_crossentropy', optimizer=opt, metrics=['accuracy'])"
      ],
      "execution_count": 0,
      "outputs": []
    },
    {
      "cell_type": "code",
      "metadata": {
        "id": "5QN_En8xwydv",
        "colab_type": "code",
        "outputId": "0f3254fc-5e11-49a7-b227-68c5153d7c30",
        "colab": {
          "base_uri": "https://localhost:8080/",
          "height": 714
        }
      },
      "source": [
        "history = model.fit(X_train, y_train,validation_data = (X_test,y_test), epochs=20, batch_size=8)"
      ],
      "execution_count": 2470,
      "outputs": [
        {
          "output_type": "stream",
          "text": [
            "Train on 1199 samples, validate on 400 samples\n",
            "Epoch 1/20\n",
            "1199/1199 [==============================] - 0s 210us/step - loss: 0.1380 - accuracy: 0.9741 - val_loss: 0.0654 - val_accuracy: 0.9900\n",
            "Epoch 2/20\n",
            "1199/1199 [==============================] - 0s 138us/step - loss: 0.1045 - accuracy: 0.9800 - val_loss: 0.0608 - val_accuracy: 0.9900\n",
            "Epoch 3/20\n",
            "1199/1199 [==============================] - 0s 144us/step - loss: 0.0993 - accuracy: 0.9800 - val_loss: 0.0685 - val_accuracy: 0.9900\n",
            "Epoch 4/20\n",
            "1199/1199 [==============================] - 0s 136us/step - loss: 0.0928 - accuracy: 0.9800 - val_loss: 0.0680 - val_accuracy: 0.9900\n",
            "Epoch 5/20\n",
            "1199/1199 [==============================] - 0s 156us/step - loss: 0.0916 - accuracy: 0.9800 - val_loss: 0.0727 - val_accuracy: 0.9900\n",
            "Epoch 6/20\n",
            "1199/1199 [==============================] - 0s 143us/step - loss: 0.0943 - accuracy: 0.9800 - val_loss: 0.0596 - val_accuracy: 0.9900\n",
            "Epoch 7/20\n",
            "1199/1199 [==============================] - 0s 140us/step - loss: 0.0944 - accuracy: 0.9800 - val_loss: 0.0749 - val_accuracy: 0.9900\n",
            "Epoch 8/20\n",
            "1199/1199 [==============================] - 0s 137us/step - loss: 0.0896 - accuracy: 0.9800 - val_loss: 0.0593 - val_accuracy: 0.9900\n",
            "Epoch 9/20\n",
            "1199/1199 [==============================] - 0s 138us/step - loss: 0.0901 - accuracy: 0.9800 - val_loss: 0.0652 - val_accuracy: 0.9900\n",
            "Epoch 10/20\n",
            "1199/1199 [==============================] - 0s 137us/step - loss: 0.0904 - accuracy: 0.9800 - val_loss: 0.0587 - val_accuracy: 0.9900\n",
            "Epoch 11/20\n",
            "1199/1199 [==============================] - 0s 137us/step - loss: 0.0889 - accuracy: 0.9800 - val_loss: 0.0669 - val_accuracy: 0.9900\n",
            "Epoch 12/20\n",
            "1199/1199 [==============================] - 0s 148us/step - loss: 0.0921 - accuracy: 0.9800 - val_loss: 0.0601 - val_accuracy: 0.9900\n",
            "Epoch 13/20\n",
            "1199/1199 [==============================] - 0s 146us/step - loss: 0.0929 - accuracy: 0.9800 - val_loss: 0.0691 - val_accuracy: 0.9900\n",
            "Epoch 14/20\n",
            "1199/1199 [==============================] - 0s 145us/step - loss: 0.0864 - accuracy: 0.9800 - val_loss: 0.0754 - val_accuracy: 0.9900\n",
            "Epoch 15/20\n",
            "1199/1199 [==============================] - 0s 141us/step - loss: 0.0870 - accuracy: 0.9800 - val_loss: 0.0745 - val_accuracy: 0.9900\n",
            "Epoch 16/20\n",
            "1199/1199 [==============================] - 0s 146us/step - loss: 0.0866 - accuracy: 0.9800 - val_loss: 0.0591 - val_accuracy: 0.9900\n",
            "Epoch 17/20\n",
            "1199/1199 [==============================] - 0s 156us/step - loss: 0.0874 - accuracy: 0.9800 - val_loss: 0.0595 - val_accuracy: 0.9900\n",
            "Epoch 18/20\n",
            "1199/1199 [==============================] - 0s 148us/step - loss: 0.0867 - accuracy: 0.9800 - val_loss: 0.0697 - val_accuracy: 0.9900\n",
            "Epoch 19/20\n",
            "1199/1199 [==============================] - 0s 141us/step - loss: 0.0917 - accuracy: 0.9800 - val_loss: 0.0732 - val_accuracy: 0.9900\n",
            "Epoch 20/20\n",
            "1199/1199 [==============================] - 0s 137us/step - loss: 0.0929 - accuracy: 0.9800 - val_loss: 0.0805 - val_accuracy: 0.9900\n"
          ],
          "name": "stdout"
        }
      ]
    },
    {
      "cell_type": "code",
      "metadata": {
        "id": "xk07oOhxxZzL",
        "colab_type": "code",
        "outputId": "d902ab42-b418-4117-dcb6-759d76b91032",
        "colab": {
          "base_uri": "https://localhost:8080/",
          "height": 354
        }
      },
      "source": [
        "#Graficando los resultados\n",
        "results=pd.DataFrame(history.history)\n",
        "results.plot(figsize=(8, 5))\n",
        "plt.grid(True)\n",
        "plt.xlabel (\"Epochs\")\n",
        "plt.ylabel (\"Accuracy - Mean Log Loss\")\n",
        "plt.title('MLP Accuracy and Loss through Epochs')\n",
        "plt.gca().set_ylim(0, 1) # set the vertical range to [0-1]\n",
        "plt.show()"
      ],
      "execution_count": 2480,
      "outputs": [
        {
          "output_type": "display_data",
          "data": {
            "image/png": "[encoded data removed]",
            "text/plain": [
              "<Figure size 576x360 with 1 Axes>"
            ]
          },
          "metadata": {
            "tags": []
          }
        }
      ]
    },
    {
      "cell_type": "markdown",
      "metadata": {
        "id": "7F1ypseatdNB",
        "colab_type": "text"
      },
      "source": [
        "### **Resultados de la red neuronal**\n",
        "\n",
        "Podemos observar en nuestro grafico que a medida que pasan los epochs nuestras preciciones van aumentando, y nuestra perdida disminuyendo. Quizas si entrenamos más tiempo pudiesemos mejorar un poco nuestra efectividad, pero debido a que la efectividad es bastante buena, he decidido dejarla con esta cantidad de epochs, para no caer en overfiiting"
      ]
    },
    {
      "cell_type": "code",
      "metadata": {
        "id": "vnw9btIDxZ7E",
        "colab_type": "code",
        "outputId": "3f42d4dc-0fc1-49c6-9359-ec44414d7a01",
        "colab": {
          "base_uri": "https://localhost:8080/",
          "height": 136
        }
      },
      "source": [
        "#Resumen de los parametros\n",
        "history.params"
      ],
      "execution_count": 2481,
      "outputs": [
        {
          "output_type": "execute_result",
          "data": {
            "text/plain": [
              "{'batch_size': 8,\n",
              " 'do_validation': True,\n",
              " 'epochs': 20,\n",
              " 'metrics': ['loss', 'accuracy', 'val_loss', 'val_accuracy'],\n",
              " 'samples': 1199,\n",
              " 'steps': None,\n",
              " 'verbose': 1}"
            ]
          },
          "metadata": {
            "tags": []
          },
          "execution_count": 2481
        }
      ]
    },
    {
      "cell_type": "markdown",
      "metadata": {
        "id": "EjuTJwT3jSA4",
        "colab_type": "text"
      },
      "source": [
        "## **Accuracy**"
      ]
    },
    {
      "cell_type": "code",
      "metadata": {
        "id": "PQ7yQYJWz7eS",
        "colab_type": "code",
        "outputId": "75e7d092-59e0-4147-b9d6-99a90ace8cfe",
        "colab": {
          "base_uri": "https://localhost:8080/",
          "height": 80
        }
      },
      "source": [
        "results[-1:]"
      ],
      "execution_count": 2482,
      "outputs": [
        {
          "output_type": "execute_result",
          "data": {
            "text/html": [
              "<div>\n",
              "<style scoped>\n",
              "    .dataframe tbody tr th:only-of-type {\n",
              "        vertical-align: middle;\n",
              "    }\n",
              "\n",
              "    .dataframe tbody tr th {\n",
              "        vertical-align: top;\n",
              "    }\n",
              "\n",
              "    .dataframe thead th {\n",
              "        text-align: right;\n",
              "    }\n",
              "</style>\n",
              "<table border=\"1\" class=\"dataframe\">\n",
              "  <thead>\n",
              "    <tr style=\"text-align: right;\">\n",
              "      <th></th>\n",
              "      <th>val_loss</th>\n",
              "      <th>val_accuracy</th>\n",
              "      <th>loss</th>\n",
              "      <th>accuracy</th>\n",
              "    </tr>\n",
              "  </thead>\n",
              "  <tbody>\n",
              "    <tr>\n",
              "      <th>19</th>\n",
              "      <td>0.080538</td>\n",
              "      <td>0.99</td>\n",
              "      <td>0.092919</td>\n",
              "      <td>0.979983</td>\n",
              "    </tr>\n",
              "  </tbody>\n",
              "</table>\n",
              "</div>"
            ],
            "text/plain": [
              "    val_loss  val_accuracy      loss  accuracy\n",
              "19  0.080538          0.99  0.092919  0.979983"
            ]
          },
          "metadata": {
            "tags": []
          },
          "execution_count": 2482
        }
      ]
    },
    {
      "cell_type": "markdown",
      "metadata": {
        "id": "O86fDMda8LOq",
        "colab_type": "text"
      },
      "source": [
        "## **Confusion Matrix**"
      ]
    },
    {
      "cell_type": "code",
      "metadata": {
        "id": "H076DnqyiDwo",
        "colab_type": "code",
        "colab": {}
      },
      "source": [
        "rounded_predictions = model.predict_classes(X_test, batch_size=220, verbose=0)\n"
      ],
      "execution_count": 0,
      "outputs": []
    },
    {
      "cell_type": "code",
      "metadata": {
        "id": "s1q7Ub_ZiD9G",
        "colab_type": "code",
        "colab": {}
      },
      "source": [
        "#Conviertiendo el one hot encoded a digitos simples\n",
        "rounded_labels=np.argmax(y_test, axis=1)\n"
      ],
      "execution_count": 0,
      "outputs": []
    },
    {
      "cell_type": "code",
      "metadata": {
        "id": "WrzNvi0niEAo",
        "colab_type": "code",
        "outputId": "e5a536b5-86fc-4e62-b4cc-b4ddf76a9267",
        "colab": {
          "base_uri": "https://localhost:8080/",
          "height": 68
        }
      },
      "source": [
        "from sklearn.metrics import confusion_matrix\n",
        "cm = confusion_matrix(rounded_labels, rounded_predictions)\n",
        "cm"
      ],
      "execution_count": 2485,
      "outputs": [
        {
          "output_type": "execute_result",
          "data": {
            "text/plain": [
              "array([[  0,   3,   0],\n",
              "       [  0, 396,   0],\n",
              "       [  0,   1,   0]])"
            ]
          },
          "metadata": {
            "tags": []
          },
          "execution_count": 2485
        }
      ]
    },
    {
      "cell_type": "code",
      "metadata": {
        "id": "Fr43lQR59ynv",
        "colab_type": "code",
        "outputId": "2c437e0d-4f8a-44e3-8656-6fc21b98c930",
        "colab": {
          "base_uri": "https://localhost:8080/",
          "height": 241
        }
      },
      "source": [
        "from sklearn.metrics import classification_report\n",
        "#Let's see how our model performed\n",
        "print(classification_report(rounded_predictions,rounded_labels))"
      ],
      "execution_count": 2486,
      "outputs": [
        {
          "output_type": "stream",
          "text": [
            "              precision    recall  f1-score   support\n",
            "\n",
            "           0       0.00      0.00      0.00         0\n",
            "           1       1.00      0.99      0.99       400\n",
            "           2       0.00      0.00      0.00         0\n",
            "\n",
            "    accuracy                           0.99       400\n",
            "   macro avg       0.33      0.33      0.33       400\n",
            "weighted avg       1.00      0.99      0.99       400\n",
            "\n"
          ],
          "name": "stdout"
        },
        {
          "output_type": "stream",
          "text": [
            "/usr/local/lib/python3.6/dist-packages/sklearn/metrics/_classification.py:1272: UndefinedMetricWarning: Recall and F-score are ill-defined and being set to 0.0 in labels with no true samples. Use `zero_division` parameter to control this behavior.\n",
            "  _warn_prf(average, modifier, msg_start, len(result))\n"
          ],
          "name": "stderr"
        }
      ]
    },
    {
      "cell_type": "code",
      "metadata": {
        "id": "l7TtQnLNln8o",
        "colab_type": "code",
        "colab": {}
      },
      "source": [
        "\n",
        "def plot_confusion_matrix(cm,\n",
        "                          target_names,\n",
        "                          title='Confusion matrix',\n",
        "                          cmap=None,\n",
        "                          normalize=True):\n",
        "  \n",
        "    import matplotlib.pyplot as plt\n",
        "    import numpy as np\n",
        "    import itertools\n",
        "\n",
        "    accuracy = np.trace(cm) / float(np.sum(cm))\n",
        "    misclass = 1 - accuracy\n",
        "\n",
        "    if cmap is None:\n",
        "        cmap = plt.get_cmap('Blues')\n",
        "\n",
        "    plt.figure(figsize=(8, 6))\n",
        "    plt.imshow(cm, interpolation='nearest', cmap=cmap)\n",
        "    plt.title(title)\n",
        "    plt.colorbar()\n",
        "\n",
        "    if target_names is not None:\n",
        "        tick_marks = np.arange(len(target_names))\n",
        "        plt.xticks(tick_marks, target_names, rotation=45)\n",
        "        plt.yticks(tick_marks, target_names)\n",
        "\n",
        "    if normalize:\n",
        "        cm = cm.astype('float') / cm.sum(axis=1)[:, np.newaxis]\n",
        "\n",
        "\n",
        "    thresh = cm.max() / 1.5 if normalize else cm.max() / 2\n",
        "    for i, j in itertools.product(range(cm.shape[0]), range(cm.shape[1])):\n",
        "        if normalize:\n",
        "            plt.text(j, i, \"{:0.4f}\".format(cm[i, j]),\n",
        "                     horizontalalignment=\"center\",\n",
        "                     color=\"white\" if cm[i, j] > thresh else \"black\")\n",
        "        else:\n",
        "            plt.text(j, i, \"{:,}\".format(cm[i, j]),\n",
        "                     horizontalalignment=\"center\",\n",
        "                     color=\"white\" if cm[i, j] > thresh else \"black\")\n",
        "\n",
        "\n",
        "    plt.tight_layout()\n",
        "    plt.ylabel('True label')\n",
        "    plt.xlabel('Predicted label\\naccuracy={:0.4f};'.format(accuracy, misclass))\n",
        "    plt.show()"
      ],
      "execution_count": 0,
      "outputs": []
    },
    {
      "cell_type": "code",
      "metadata": {
        "id": "BHHzFovFm9A5",
        "colab_type": "code",
        "outputId": "ff3cc933-f868-402a-9fb0-a813f4f6d0e5",
        "colab": {
          "base_uri": "https://localhost:8080/",
          "height": 473
        }
      },
      "source": [
        "#Graficando Matriz de Confusión\n",
        "plot_confusion_matrix(cm           = np.array([[  0,   3,   0],\n",
        "                                                [  0, 396,   0],\n",
        "                                                [  0,   1,   0]]),\n",
        "     \n",
        "      \n",
        "                      normalize = False,\n",
        "                      target_names = ['Baja Calidad', 'Calidad Estandar', 'Alta Calidad'],\n",
        "                      title        = \"Confusion Matrix\")"
      ],
      "execution_count": 2489,
      "outputs": [
        {
          "output_type": "display_data",
          "data": {
            "image/png": "[encoded data removed]",
            "text/plain": [
              "<Figure size 576x432 with 2 Axes>"
            ]
          },
          "metadata": {
            "tags": []
          }
        }
      ]
    },
    {
      "cell_type": "markdown",
      "metadata": {
        "id": "-HXjJJEwk-Ux",
        "colab_type": "text"
      },
      "source": [
        "# **Resultados y comentarios**\n",
        " \n",
        " Al igual que la predicción realizada con Machine Learning, Hemos Descartado algunas variables no significativas para el modelo, Con la ayuda de un Análisisde correlación observandolo con un heatmap, y luego viendo los indices de correlación para ver que variables explicaban mejor el modelo.\n",
        "\n",
        "¿Cúal es la minima configuración de red para dar mayor exactitud?\n",
        "\n",
        "La mínima configuración de red sería con 1 capa oculta con una neurona, y la capa de clasifiación con 3 neuronas.\n",
        "\n",
        "La cantidad de datos no esta balanceada , por lo que al aplicar un modelo con todas las calidades de vino este daba una efectividad muy baja. La mejor opción nuevamente fue la de re clasificar en tres clases distintas de vinos para que se balanceara un poco más el análisis.\n",
        "\n",
        "Sin embargo sigue estando muy dispareja la cantidad de datos, por lo que las predicciones, casi no apuntan a Vinos de Baja calidad o Alta Calidad."
      ]
    }
  ]
}